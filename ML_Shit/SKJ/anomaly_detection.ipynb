{
 "cells": [
  {
   "cell_type": "markdown",
   "id": "099e4498",
   "metadata": {},
   "source": [
    "# 🚨 Engine Anomaly Detection Notebook"
   ]
  },
  {
   "cell_type": "code",
   "execution_count": null,
   "id": "f8768d55",
   "metadata": {},
   "outputs": [
    {
     "ename": "",
     "evalue": "",
     "output_type": "error",
     "traceback": [
      "\u001b[1;31mJupyter cannot be started. Error attempting to locate Jupyter: 'Kernelspec' module not installed in the selected interpreter (/home/skj/Documents/projects/digital_twin_bolt/ML_Shit/.venv/bin/python).\n",
      "\u001b[1;31m Please re-install or update 'jupyter'.\n",
      "\u001b[1;31mRun the following command to install 'jupyter and notebook' into the Python environment. \n",
      "\u001b[1;31mCommand: 'python -m pip install jupyter notebook -U\n",
      "\u001b[1;31mor\n",
      "\u001b[1;31mconda install jupyter notebook -U'\n",
      "\u001b[1;31mClick <a href='https://aka.ms/installJupyterForVSCode'>here</a> for more info."
     ]
    }
   ],
   "source": [
    "%pip install scikit-learn"
   ]
  },
  {
   "cell_type": "code",
   "execution_count": null,
   "id": "c5e5a71e",
   "metadata": {},
   "outputs": [
    {
     "ename": "",
     "evalue": "",
     "output_type": "error",
     "traceback": [
      "\u001b[1;31mJupyter cannot be started. Error attempting to locate Jupyter: Running cells with '.venv (Python 3.11.10)' requires the jupyter and notebook package.\n",
      "\u001b[1;31mRun the following command to install 'jupyter and notebook' into the Python environment. \n",
      "\u001b[1;31mCommand: 'python -m pip install jupyter notebook -U\n",
      "\u001b[1;31mor\n",
      "\u001b[1;31mconda install jupyter notebook -U'\n",
      "\u001b[1;31mClick <a href='https://aka.ms/installJupyterForVSCode'>here</a> for more info."
     ]
    }
   ],
   "source": [
    "from normalization_engine import BaseEngine\n",
    "import numpy as np\n",
    "from sklearn.ensemble import IsolationForest\n"
   ]
  },
  {
   "cell_type": "code",
   "execution_count": null,
   "id": "ec3c36ea",
   "metadata": {},
   "outputs": [],
   "source": [
    "# Select engine type: \"petrol\", \"diesel\", or \"rotary\"\n",
    "engine = BaseEngine(\"petrol\")\n",
    "schema = engine.schema\n"
   ]
  },
  {
   "cell_type": "code",
   "execution_count": null,
   "id": "db822421",
   "metadata": {},
   "outputs": [],
   "source": [
    "def generate_normal_data(n=500):\n",
    "    rng = np.random.default_rng()\n",
    "    data = []\n",
    "    for _ in range(n):\n",
    "        sample = {}\n",
    "        for key, (min_val, max_val) in schema.items():\n",
    "            sample[key] = rng.uniform(min_val, max_val)\n",
    "        norm_sample = engine.normalize(sample)\n",
    "        data.append(list(norm_sample.values()))\n",
    "    return np.array(data)\n",
    "\n",
    "X_train = generate_normal_data()\n"
   ]
  },
  {
   "cell_type": "code",
   "execution_count": null,
   "id": "95b2eecb",
   "metadata": {},
   "outputs": [],
   "source": [
    "model = IsolationForest(contamination=0.01, random_state=42)\n",
    "model.fit(X_train)\n"
   ]
  },
  {
   "cell_type": "code",
   "execution_count": null,
   "id": "418623b3",
   "metadata": {},
   "outputs": [],
   "source": [
    "# Example real-time input\n",
    "sensor_input = {\n",
    "    \"rpm\": 7200,\n",
    "    \"coolant_temp\": 98,\n",
    "    \"throttle_pos\": 70,\n",
    "    \"pressure\": 3.4,\n",
    "    \"vibration\": 0.4,\n",
    "    \"air_temp\": 35\n",
    "}\n",
    "\n",
    "norm_input = list(engine.normalize(sensor_input).values())\n",
    "prediction = model.predict([norm_input])[0]\n",
    "\n",
    "status = \"ANOMALY ❌\" if prediction == -1 else \"NORMAL ✅\"\n",
    "print(\"Input:\", sensor_input)\n",
    "print(\"Status:\", status)\n"
   ]
  },
  {
   "cell_type": "code",
   "execution_count": null,
   "id": "c1b51fc3",
   "metadata": {},
   "outputs": [],
   "source": [
    "def label_wise_diagnostics(sensor_input, schema):\n",
    "    diagnostics = {}\n",
    "    for key, value in sensor_input.items():\n",
    "        min_val, max_val = schema.get(key, (0, 1))\n",
    "        if value < min_val:\n",
    "            diagnostics[key] = \"LOW ⚠️\"\n",
    "        elif value > max_val:\n",
    "            diagnostics[key] = \"HIGH ⚠️\"\n",
    "        else:\n",
    "            diagnostics[key] = \"OK ✅\"\n",
    "    return diagnostics\n",
    "\n",
    "print(\"Sensor Diagnostics:\")\n",
    "print(label_wise_diagnostics(sensor_input, schema))\n"
   ]
  }
 ],
 "metadata": {
  "kernelspec": {
   "display_name": "Python 3",
   "language": "python",
   "name": "python3"
  },
  "language_info": {
   "name": "python",
   "version": "3.11.10"
  }
 },
 "nbformat": 4,
 "nbformat_minor": 5
}
