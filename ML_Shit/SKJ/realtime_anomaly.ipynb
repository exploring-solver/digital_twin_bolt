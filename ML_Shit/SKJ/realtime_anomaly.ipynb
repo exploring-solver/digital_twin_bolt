{
 "cells": [
  {
   "cell_type": "code",
   "execution_count": 2,
   "metadata": {},
   "outputs": [
    {
     "name": "stdout",
     "output_type": "stream",
     "text": [
      "Requirement already satisfied: gradio in /home/skj/Documents/projects/digital_twin_bolt/ML_Shit/.venv/lib/python3.11/site-packages (5.35.0)\n",
      "Requirement already satisfied: scikit-learn in /home/skj/Documents/projects/digital_twin_bolt/ML_Shit/.venv/lib/python3.11/site-packages (1.7.0)\n",
      "Requirement already satisfied: numpy in /home/skj/Documents/projects/digital_twin_bolt/ML_Shit/.venv/lib/python3.11/site-packages (2.3.1)\n",
      "Requirement already satisfied: aiofiles<25.0,>=22.0 in /home/skj/Documents/projects/digital_twin_bolt/ML_Shit/.venv/lib/python3.11/site-packages (from gradio) (24.1.0)\n",
      "Requirement already satisfied: anyio<5.0,>=3.0 in /home/skj/Documents/projects/digital_twin_bolt/ML_Shit/.venv/lib/python3.11/site-packages (from gradio) (4.9.0)\n",
      "Requirement already satisfied: fastapi<1.0,>=0.115.2 in /home/skj/Documents/projects/digital_twin_bolt/ML_Shit/.venv/lib/python3.11/site-packages (from gradio) (0.115.14)\n",
      "Requirement already satisfied: ffmpy in /home/skj/Documents/projects/digital_twin_bolt/ML_Shit/.venv/lib/python3.11/site-packages (from gradio) (0.6.0)\n",
      "Requirement already satisfied: gradio-client==1.10.4 in /home/skj/Documents/projects/digital_twin_bolt/ML_Shit/.venv/lib/python3.11/site-packages (from gradio) (1.10.4)\n",
      "Requirement already satisfied: groovy~=0.1 in /home/skj/Documents/projects/digital_twin_bolt/ML_Shit/.venv/lib/python3.11/site-packages (from gradio) (0.1.2)\n",
      "Requirement already satisfied: httpx>=0.24.1 in /home/skj/Documents/projects/digital_twin_bolt/ML_Shit/.venv/lib/python3.11/site-packages (from gradio) (0.28.1)\n",
      "Requirement already satisfied: huggingface-hub>=0.28.1 in /home/skj/Documents/projects/digital_twin_bolt/ML_Shit/.venv/lib/python3.11/site-packages (from gradio) (0.33.1)\n",
      "Requirement already satisfied: jinja2<4.0 in /home/skj/Documents/projects/digital_twin_bolt/ML_Shit/.venv/lib/python3.11/site-packages (from gradio) (3.1.6)\n",
      "Requirement already satisfied: markupsafe<4.0,>=2.0 in /home/skj/Documents/projects/digital_twin_bolt/ML_Shit/.venv/lib/python3.11/site-packages (from gradio) (3.0.2)\n",
      "Requirement already satisfied: orjson~=3.0 in /home/skj/Documents/projects/digital_twin_bolt/ML_Shit/.venv/lib/python3.11/site-packages (from gradio) (3.10.18)\n",
      "Requirement already satisfied: packaging in /home/skj/Documents/projects/digital_twin_bolt/ML_Shit/.venv/lib/python3.11/site-packages (from gradio) (25.0)\n",
      "Requirement already satisfied: pandas<3.0,>=1.0 in /home/skj/Documents/projects/digital_twin_bolt/ML_Shit/.venv/lib/python3.11/site-packages (from gradio) (2.3.0)\n",
      "Requirement already satisfied: pillow<12.0,>=8.0 in /home/skj/Documents/projects/digital_twin_bolt/ML_Shit/.venv/lib/python3.11/site-packages (from gradio) (11.2.1)\n",
      "Requirement already satisfied: pydantic<2.12,>=2.0 in /home/skj/Documents/projects/digital_twin_bolt/ML_Shit/.venv/lib/python3.11/site-packages (from gradio) (2.11.7)\n",
      "Requirement already satisfied: pydub in /home/skj/Documents/projects/digital_twin_bolt/ML_Shit/.venv/lib/python3.11/site-packages (from gradio) (0.25.1)\n",
      "Requirement already satisfied: python-multipart>=0.0.18 in /home/skj/Documents/projects/digital_twin_bolt/ML_Shit/.venv/lib/python3.11/site-packages (from gradio) (0.0.20)\n",
      "Requirement already satisfied: pyyaml<7.0,>=5.0 in /home/skj/Documents/projects/digital_twin_bolt/ML_Shit/.venv/lib/python3.11/site-packages (from gradio) (6.0.2)\n",
      "Requirement already satisfied: ruff>=0.9.3 in /home/skj/Documents/projects/digital_twin_bolt/ML_Shit/.venv/lib/python3.11/site-packages (from gradio) (0.12.1)\n",
      "Requirement already satisfied: safehttpx<0.2.0,>=0.1.6 in /home/skj/Documents/projects/digital_twin_bolt/ML_Shit/.venv/lib/python3.11/site-packages (from gradio) (0.1.6)\n",
      "Requirement already satisfied: semantic-version~=2.0 in /home/skj/Documents/projects/digital_twin_bolt/ML_Shit/.venv/lib/python3.11/site-packages (from gradio) (2.10.0)\n",
      "Requirement already satisfied: starlette<1.0,>=0.40.0 in /home/skj/Documents/projects/digital_twin_bolt/ML_Shit/.venv/lib/python3.11/site-packages (from gradio) (0.46.2)\n",
      "Requirement already satisfied: tomlkit<0.14.0,>=0.12.0 in /home/skj/Documents/projects/digital_twin_bolt/ML_Shit/.venv/lib/python3.11/site-packages (from gradio) (0.13.3)\n",
      "Requirement already satisfied: typer<1.0,>=0.12 in /home/skj/Documents/projects/digital_twin_bolt/ML_Shit/.venv/lib/python3.11/site-packages (from gradio) (0.16.0)\n",
      "Requirement already satisfied: typing-extensions~=4.0 in /home/skj/Documents/projects/digital_twin_bolt/ML_Shit/.venv/lib/python3.11/site-packages (from gradio) (4.14.0)\n",
      "Requirement already satisfied: uvicorn>=0.14.0 in /home/skj/Documents/projects/digital_twin_bolt/ML_Shit/.venv/lib/python3.11/site-packages (from gradio) (0.34.3)\n",
      "Requirement already satisfied: fsspec in /home/skj/Documents/projects/digital_twin_bolt/ML_Shit/.venv/lib/python3.11/site-packages (from gradio-client==1.10.4->gradio) (2025.5.1)\n",
      "Requirement already satisfied: websockets<16.0,>=10.0 in /home/skj/Documents/projects/digital_twin_bolt/ML_Shit/.venv/lib/python3.11/site-packages (from gradio-client==1.10.4->gradio) (15.0.1)\n",
      "Requirement already satisfied: idna>=2.8 in /home/skj/Documents/projects/digital_twin_bolt/ML_Shit/.venv/lib/python3.11/site-packages (from anyio<5.0,>=3.0->gradio) (3.10)\n",
      "Requirement already satisfied: sniffio>=1.1 in /home/skj/Documents/projects/digital_twin_bolt/ML_Shit/.venv/lib/python3.11/site-packages (from anyio<5.0,>=3.0->gradio) (1.3.1)\n",
      "Requirement already satisfied: python-dateutil>=2.8.2 in /home/skj/Documents/projects/digital_twin_bolt/ML_Shit/.venv/lib/python3.11/site-packages (from pandas<3.0,>=1.0->gradio) (2.9.0.post0)\n",
      "Requirement already satisfied: pytz>=2020.1 in /home/skj/Documents/projects/digital_twin_bolt/ML_Shit/.venv/lib/python3.11/site-packages (from pandas<3.0,>=1.0->gradio) (2025.2)\n",
      "Requirement already satisfied: tzdata>=2022.7 in /home/skj/Documents/projects/digital_twin_bolt/ML_Shit/.venv/lib/python3.11/site-packages (from pandas<3.0,>=1.0->gradio) (2025.2)\n",
      "Requirement already satisfied: annotated-types>=0.6.0 in /home/skj/Documents/projects/digital_twin_bolt/ML_Shit/.venv/lib/python3.11/site-packages (from pydantic<2.12,>=2.0->gradio) (0.7.0)\n",
      "Requirement already satisfied: pydantic-core==2.33.2 in /home/skj/Documents/projects/digital_twin_bolt/ML_Shit/.venv/lib/python3.11/site-packages (from pydantic<2.12,>=2.0->gradio) (2.33.2)\n",
      "Requirement already satisfied: typing-inspection>=0.4.0 in /home/skj/Documents/projects/digital_twin_bolt/ML_Shit/.venv/lib/python3.11/site-packages (from pydantic<2.12,>=2.0->gradio) (0.4.1)\n",
      "Requirement already satisfied: click>=8.0.0 in /home/skj/Documents/projects/digital_twin_bolt/ML_Shit/.venv/lib/python3.11/site-packages (from typer<1.0,>=0.12->gradio) (8.2.1)\n",
      "Requirement already satisfied: shellingham>=1.3.0 in /home/skj/Documents/projects/digital_twin_bolt/ML_Shit/.venv/lib/python3.11/site-packages (from typer<1.0,>=0.12->gradio) (1.5.4)\n",
      "Requirement already satisfied: rich>=10.11.0 in /home/skj/Documents/projects/digital_twin_bolt/ML_Shit/.venv/lib/python3.11/site-packages (from typer<1.0,>=0.12->gradio) (14.0.0)\n",
      "Requirement already satisfied: scipy>=1.8.0 in /home/skj/Documents/projects/digital_twin_bolt/ML_Shit/.venv/lib/python3.11/site-packages (from scikit-learn) (1.16.0)\n",
      "Requirement already satisfied: joblib>=1.2.0 in /home/skj/Documents/projects/digital_twin_bolt/ML_Shit/.venv/lib/python3.11/site-packages (from scikit-learn) (1.5.1)\n",
      "Requirement already satisfied: threadpoolctl>=3.1.0 in /home/skj/Documents/projects/digital_twin_bolt/ML_Shit/.venv/lib/python3.11/site-packages (from scikit-learn) (3.6.0)\n",
      "Requirement already satisfied: certifi in /home/skj/Documents/projects/digital_twin_bolt/ML_Shit/.venv/lib/python3.11/site-packages (from httpx>=0.24.1->gradio) (2025.6.15)\n",
      "Requirement already satisfied: httpcore==1.* in /home/skj/Documents/projects/digital_twin_bolt/ML_Shit/.venv/lib/python3.11/site-packages (from httpx>=0.24.1->gradio) (1.0.9)\n",
      "Requirement already satisfied: h11>=0.16 in /home/skj/Documents/projects/digital_twin_bolt/ML_Shit/.venv/lib/python3.11/site-packages (from httpcore==1.*->httpx>=0.24.1->gradio) (0.16.0)\n",
      "Requirement already satisfied: filelock in /home/skj/Documents/projects/digital_twin_bolt/ML_Shit/.venv/lib/python3.11/site-packages (from huggingface-hub>=0.28.1->gradio) (3.18.0)\n",
      "Requirement already satisfied: requests in /home/skj/Documents/projects/digital_twin_bolt/ML_Shit/.venv/lib/python3.11/site-packages (from huggingface-hub>=0.28.1->gradio) (2.32.4)\n",
      "Requirement already satisfied: tqdm>=4.42.1 in /home/skj/Documents/projects/digital_twin_bolt/ML_Shit/.venv/lib/python3.11/site-packages (from huggingface-hub>=0.28.1->gradio) (4.67.1)\n",
      "Requirement already satisfied: hf-xet<2.0.0,>=1.1.2 in /home/skj/Documents/projects/digital_twin_bolt/ML_Shit/.venv/lib/python3.11/site-packages (from huggingface-hub>=0.28.1->gradio) (1.1.5)\n",
      "Requirement already satisfied: six>=1.5 in /home/skj/Documents/projects/digital_twin_bolt/ML_Shit/.venv/lib/python3.11/site-packages (from python-dateutil>=2.8.2->pandas<3.0,>=1.0->gradio) (1.17.0)\n",
      "Requirement already satisfied: markdown-it-py>=2.2.0 in /home/skj/Documents/projects/digital_twin_bolt/ML_Shit/.venv/lib/python3.11/site-packages (from rich>=10.11.0->typer<1.0,>=0.12->gradio) (3.0.0)\n",
      "Requirement already satisfied: pygments<3.0.0,>=2.13.0 in /home/skj/Documents/projects/digital_twin_bolt/ML_Shit/.venv/lib/python3.11/site-packages (from rich>=10.11.0->typer<1.0,>=0.12->gradio) (2.19.2)\n",
      "Requirement already satisfied: mdurl~=0.1 in /home/skj/Documents/projects/digital_twin_bolt/ML_Shit/.venv/lib/python3.11/site-packages (from markdown-it-py>=2.2.0->rich>=10.11.0->typer<1.0,>=0.12->gradio) (0.1.2)\n",
      "Requirement already satisfied: charset_normalizer<4,>=2 in /home/skj/Documents/projects/digital_twin_bolt/ML_Shit/.venv/lib/python3.11/site-packages (from requests->huggingface-hub>=0.28.1->gradio) (3.4.2)\n",
      "Requirement already satisfied: urllib3<3,>=1.21.1 in /home/skj/Documents/projects/digital_twin_bolt/ML_Shit/.venv/lib/python3.11/site-packages (from requests->huggingface-hub>=0.28.1->gradio) (2.5.0)\n",
      "Note: you may need to restart the kernel to use updated packages.\n"
     ]
    }
   ],
   "source": [
    "%pip install gradio scikit-learn numpy \n"
   ]
  },
  {
   "cell_type": "code",
   "execution_count": 3,
   "metadata": {},
   "outputs": [],
   "source": [
    "import gradio as gr\n",
    "from normalization_engine import BaseEngine\n",
    "from sklearn.ensemble import IsolationForest\n",
    "import numpy as np\n",
    "\n",
    "# Setup\n",
    "engine_type = \"petrol\"\n",
    "normalizer = BaseEngine(engine_type)\n",
    "schema = normalizer.schema\n"
   ]
  },
  {
   "cell_type": "code",
   "execution_count": 4,
   "metadata": {},
   "outputs": [],
   "source": [
    "def generate_normal_data(engine_type, n_samples=200):\n",
    "    engine = BaseEngine(engine_type)\n",
    "    schema = engine.schema\n",
    "    data = []\n",
    "    for _ in range(n_samples):\n",
    "        sample = {\n",
    "            sensor: np.random.uniform(min_val, max_val)\n",
    "            for sensor, (min_val, max_val) in schema.items()\n",
    "        }\n",
    "        data.append(sample)\n",
    "    return data\n",
    "\n",
    "normal_data = generate_normal_data(engine_type)\n",
    "X = np.array([[v for v in normalizer.normalize(d).values()] for d in normal_data])\n",
    "model = IsolationForest(contamination=0.05).fit(X)\n"
   ]
  },
  {
   "cell_type": "code",
   "execution_count": 5,
   "metadata": {},
   "outputs": [],
   "source": [
    "def detect(rpm, coolant_temp, throttle_pos, pressure, vibration, air_temp):\n",
    "    input_data = {\n",
    "        \"rpm\": rpm,\n",
    "        \"coolant_temp\": coolant_temp,\n",
    "        \"throttle_pos\": throttle_pos,\n",
    "        \"pressure\": pressure,\n",
    "        \"vibration\": vibration,\n",
    "        \"air_temp\": air_temp\n",
    "    }\n",
    "    norm_input = list(normalizer.normalize(input_data).values())\n",
    "    result = model.predict([norm_input])[0]\n",
    "    return \"⚠️ Anomaly Detected!\" if result == -1 else \"✅ Engine Running Normally\"\n"
   ]
  },
  {
   "cell_type": "code",
   "execution_count": 6,
   "metadata": {},
   "outputs": [
    {
     "name": "stdout",
     "output_type": "stream",
     "text": [
      "* Running on local URL:  http://127.0.0.1:7860\n",
      "* Running on public URL: https://2b761c2d2128729f32.gradio.live\n",
      "\n",
      "This share link expires in 1 week. For free permanent hosting and GPU upgrades, run `gradio deploy` from the terminal in the working directory to deploy to Hugging Face Spaces (https://huggingface.co/spaces)\n"
     ]
    },
    {
     "data": {
      "text/html": [
       "<div><iframe src=\"https://2b761c2d2128729f32.gradio.live\" width=\"100%\" height=\"500\" allow=\"autoplay; camera; microphone; clipboard-read; clipboard-write;\" frameborder=\"0\" allowfullscreen></iframe></div>"
      ],
      "text/plain": [
       "<IPython.core.display.HTML object>"
      ]
     },
     "metadata": {},
     "output_type": "display_data"
    },
    {
     "data": {
      "text/plain": []
     },
     "execution_count": 6,
     "metadata": {},
     "output_type": "execute_result"
    }
   ],
   "source": [
    "inputs = [\n",
    "    gr.Slider(800, 8000, step=100, label=\"RPM (Revolutions Per Minute)\", value=3000),\n",
    "    gr.Slider(70, 105, step=1, label=\"Coolant Temp (°C)\", value=90),\n",
    "    gr.Slider(0, 100, step=1, label=\"Throttle Position (%)\", value=50),\n",
    "    gr.Slider(2.0, 5.0, step=0.1, label=\"Pressure (bar)\", value=3.0),\n",
    "    gr.Slider(0.0, 1.5, step=0.05, label=\"Vibration (mm/s)\", value=0.5),\n",
    "    gr.Slider(15, 45, step=1, label=\"Air Temp (°C)\", value=25)\n",
    "]\n",
    "\n",
    "iface = gr.Interface(\n",
    "    fn=detect,\n",
    "    inputs=inputs,\n",
    "    outputs=gr.Textbox(label=\"System Verdict\"),\n",
    "    title=\"🚗 Engine Health Analyzer\",\n",
    "    description=\"Adjust sensor values to check if the engine is performing normally.\",\n",
    "    theme=\"default\"\n",
    ")\n",
    "\n",
    "iface.launch(share=True)\n"
   ]
  },
  {
   "cell_type": "code",
   "execution_count": null,
   "metadata": {},
   "outputs": [],
   "source": []
  }
 ],
 "metadata": {
  "kernelspec": {
   "display_name": "Python 3 (ipykernel)",
   "language": "python",
   "name": "python3"
  },
  "language_info": {
   "codemirror_mode": {
    "name": "ipython",
    "version": 3
   },
   "file_extension": ".py",
   "mimetype": "text/x-python",
   "name": "python",
   "nbconvert_exporter": "python",
   "pygments_lexer": "ipython3",
   "version": "3.11.10"
  }
 },
 "nbformat": 4,
 "nbformat_minor": 4
}
